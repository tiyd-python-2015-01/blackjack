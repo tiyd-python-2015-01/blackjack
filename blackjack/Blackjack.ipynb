{
 "metadata": {
  "name": "",
  "signature": "sha256:20593176fb5c65bc7f8fc4dbecdce3a73290df37d41e426db60cd33dcaf3f32d"
 },
 "nbformat": 3,
 "nbformat_minor": 0,
 "worksheets": [
  {
   "cells": [
    {
     "cell_type": "code",
     "collapsed": false,
     "input": [
      "import card\n",
      "\n",
      "new_card = card.Card(\"King\", \"Clubs\")\n",
      "\n",
      "#print(new_card.value) this got moved to player/dealer class\n",
      "print(new_card.suit)\n",
      "print(new_card.rank)\n",
      "print(type(new_card))\n",
      "\n",
      "print(new_card)"
     ],
     "language": "python",
     "metadata": {},
     "outputs": [
      {
       "output_type": "stream",
       "stream": "stdout",
       "text": [
        "Clubs\n",
        "King\n",
        "<class 'card.Card'>\n",
        "King of Clubs\n"
       ]
      }
     ],
     "prompt_number": 3
    },
    {
     "cell_type": "code",
     "collapsed": false,
     "input": [
      "import random\n",
      "from card import Card\n",
      "from deck import Deck\n",
      "\n",
      "new_deck = Deck()\n",
      "print(len(new_deck))\n",
      "print(\"ORIGINAL: \", new_deck)\n",
      "new_deck.shuffle_deck()\n",
      "print(\"SHUFFLE: \", new_deck)\n",
      "print(new_deck.deal_card())\n",
      "print(new_deck.deal_card())\n",
      "print(new_deck.deal_card())\n"
     ],
     "language": "python",
     "metadata": {},
     "outputs": [
      {
       "output_type": "stream",
       "stream": "stdout",
       "text": [
        "52\n",
        "ORIGINAL:  [2 of Hearts, 3 of Hearts, 4 of Hearts, 5 of Hearts, 6 of Hearts, 7 of Hearts, 8 of Hearts, 9 of Hearts, 10 of Hearts, Jack of Hearts, Queen of Hearts, King of Hearts, Ace of Hearts, 2 of Diamonds, 3 of Diamonds, 4 of Diamonds, 5 of Diamonds, 6 of Diamonds, 7 of Diamonds, 8 of Diamonds, 9 of Diamonds, 10 of Diamonds, Jack of Diamonds, Queen of Diamonds, King of Diamonds, Ace of Diamonds, 2 of Spades, 3 of Spades, 4 of Spades, 5 of Spades, 6 of Spades, 7 of Spades, 8 of Spades, 9 of Spades, 10 of Spades, Jack of Spades, Queen of Spades, King of Spades, Ace of Spades, 2 of Clubs, 3 of Clubs, 4 of Clubs, 5 of Clubs, 6 of Clubs, 7 of Clubs, 8 of Clubs, 9 of Clubs, 10 of Clubs, Jack of Clubs, Queen of Clubs, King of Clubs, Ace of Clubs]\n",
        "SHUFFLE:  [8 of Clubs, Ace of Hearts, 5 of Spades, 5 of Hearts, 9 of Clubs, 7 of Hearts, Jack of Hearts, Queen of Diamonds, 10 of Spades, Ace of Clubs, 6 of Clubs, 4 of Diamonds, King of Diamonds, Queen of Spades, 2 of Hearts, 3 of Diamonds, 9 of Diamonds, 7 of Diamonds, 4 of Clubs, 4 of Spades, 3 of Clubs, 8 of Diamonds, 7 of Spades, Ace of Spades, 2 of Diamonds, 3 of Spades, 6 of Spades, Queen of Hearts, King of Clubs, 8 of Hearts, Jack of Diamonds, King of Hearts, 4 of Hearts, 7 of Clubs, Ace of Diamonds, 2 of Clubs, Jack of Spades, 10 of Hearts, King of Spades, 2 of Spades, Queen of Clubs, 8 of Spades, 6 of Diamonds, 6 of Hearts, 10 of Diamonds, 10 of Clubs, 5 of Diamonds, 9 of Spades, 3 of Hearts, 5 of Clubs, 9 of Hearts, Jack of Clubs]\n",
        "8 of Clubs\n",
        "Ace of Hearts\n",
        "5 of Spades\n"
       ]
      }
     ],
     "prompt_number": 5
    },
    {
     "cell_type": "code",
     "collapsed": false,
     "input": [
      "from card import Card\n",
      "from deck import Deck\n",
      "from player import Player\n",
      "\n",
      "new_deck = Deck()\n",
      "new_player = Player()\n",
      "new_deck.shuffle_deck()\n",
      "\n",
      "print(new_player.take_a_hit(new_deck))\n",
      "print(len(new_player))\n",
      "print(new_player)\n",
      "print(new_player.hand_value())\n",
      "#print(new_deck)\n"
     ],
     "language": "python",
     "metadata": {},
     "outputs": [
      {
       "output_type": "stream",
       "stream": "stdout",
       "text": [
        "None\n",
        "2\n",
        "[Ace of Diamonds, 8 of Hearts]\n",
        "19\n"
       ]
      }
     ],
     "prompt_number": 7
    },
    {
     "cell_type": "code",
     "collapsed": false,
     "input": [],
     "language": "python",
     "metadata": {},
     "outputs": [],
     "prompt_number": 1
    },
    {
     "cell_type": "code",
     "collapsed": false,
     "input": [
      "from card import Card\n",
      "from deck import Deck\n",
      "from player import Player\n",
      "\n",
      "new_deck = Deck()\n",
      "new_player = Player()\n",
      "new_player.hand = [Card(\"Ace\", \"Clubs\"), Card(9, \"Spades\")]\n",
      "\n",
      "\n",
      "print(len(new_player))\n",
      "print(new_player)\n",
      "print(new_player.hand)\n",
      "print(new_player.bank)\n",
      "print(new_player.hand_value())\n",
      "#print(new_deck)"
     ],
     "language": "python",
     "metadata": {},
     "outputs": [
      {
       "output_type": "stream",
       "stream": "stdout",
       "text": [
        "2\n",
        "[Ace of Clubs, 9 of Spades]\n",
        "[Ace of Clubs, 9 of Spades]\n",
        "100\n",
        "20\n"
       ]
      }
     ],
     "prompt_number": 11
    }
   ],
   "metadata": {}
  }
 ]
}